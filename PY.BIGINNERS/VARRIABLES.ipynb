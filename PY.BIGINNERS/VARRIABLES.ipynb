{
 "cells": [
  {
   "cell_type": "markdown",
   "id": "8e171608",
   "metadata": {},
   "source": [
    "# variables"
   ]
  },
  {
   "cell_type": "code",
   "execution_count": 1,
   "id": "63146bc5",
   "metadata": {},
   "outputs": [
    {
     "name": "stdout",
     "output_type": "stream",
     "text": [
      "13600\n"
     ]
    }
   ],
   "source": [
    "#how to deal wuth the varriables\n",
    "x=2500\n",
    "y=3600\n",
    "z=7500\n",
    "total=x+y+z\n",
    "print(total)\n"
   ]
  },
  {
   "cell_type": "code",
   "execution_count": 2,
   "id": "c2c7fcb8",
   "metadata": {},
   "outputs": [
    {
     "name": "stdout",
     "output_type": "stream",
     "text": [
      "0.8133333333333334\n"
     ]
    }
   ],
   "source": [
    "division=((x+y)/z)\n",
    "print(division)"
   ]
  },
  {
   "cell_type": "code",
   "execution_count": 9,
   "id": "35360852",
   "metadata": {},
   "outputs": [
    {
     "name": "stdout",
     "output_type": "stream",
     "text": [
      "['clothes', 'food', 'school_fees', 'transport']\n"
     ]
    }
   ],
   "source": [
    "#below is the monthly expenditure\n",
    "clothes=10000\n",
    "food=200000\n",
    "school_fees=50000\n",
    "tansport=10000\n",
    "\n",
    "k=([\"clothes\",\"food\",\"school_fees\",\"transport\"])\n",
    "print(k)\n"
   ]
  },
  {
   "cell_type": "code",
   "execution_count": 13,
   "id": "840120b8",
   "metadata": {},
   "outputs": [
    {
     "name": "stdout",
     "output_type": "stream",
     "text": [
      "495\n"
     ]
    }
   ],
   "source": [
    "#NUMBERS\n",
    "#SOLVING SIMPLE PROBLEM STATEMENT BELOW\n",
    "#distance,time,speed\n",
    "distance_kpl=400\n",
    "distance_ntu=95\n",
    "\n",
    "#toal distance\n",
    "tld=distance_kpl+distance_ntu\n",
    "print(tld)"
   ]
  },
  {
   "cell_type": "code",
   "execution_count": 21,
   "id": "1cc6b2ab",
   "metadata": {},
   "outputs": [
    {
     "name": "stdout",
     "output_type": "stream",
     "text": [
      "4.95\n"
     ]
    }
   ],
   "source": [
    "#THEREFORE,FIND TIME IF THE SPEED IS PROVIDED\n",
    "speed=100\n",
    "\n",
    "#time=distance/sped\n",
    "time=(tld/speed)\n",
    "print(time)"
   ]
  },
  {
   "cell_type": "code",
   "execution_count": 22,
   "id": "f9bc459b",
   "metadata": {},
   "outputs": [
    {
     "data": {
      "text/plain": [
       "5.0"
      ]
     },
     "execution_count": 22,
     "metadata": {},
     "output_type": "execute_result"
    }
   ],
   "source": [
    "#how to round off my number\n",
    "round(4.95,1)"
   ]
  },
  {
   "cell_type": "markdown",
   "id": "d0aba0bc",
   "metadata": {},
   "source": [
    "# numbers"
   ]
  },
  {
   "cell_type": "code",
   "execution_count": 16,
   "id": "a96de151",
   "metadata": {},
   "outputs": [
    {
     "data": {
      "text/plain": [
       "68"
      ]
     },
     "execution_count": 16,
     "metadata": {},
     "output_type": "execute_result"
    }
   ],
   "source": [
    "#continuation with the numbers\n",
    "48+20"
   ]
  },
  {
   "cell_type": "code",
   "execution_count": 17,
   "id": "f64a3b5e",
   "metadata": {},
   "outputs": [
    {
     "data": {
      "text/plain": [
       "1015.9874411302983"
      ]
     },
     "execution_count": 17,
     "metadata": {},
     "output_type": "execute_result"
    }
   ],
   "source": [
    "647184/637"
   ]
  },
  {
   "cell_type": "code",
   "execution_count": 20,
   "id": "b727c5f7",
   "metadata": {},
   "outputs": [
    {
     "data": {
      "text/plain": [
       "1016.0"
      ]
     },
     "execution_count": 20,
     "metadata": {},
     "output_type": "execute_result"
    }
   ],
   "source": [
    "#i need to have only two decimal places\n",
    "round(1015.9874411302983,1)"
   ]
  },
  {
   "cell_type": "code",
   "execution_count": null,
   "id": "cdddc323",
   "metadata": {},
   "outputs": [],
   "source": [
    "#types of numbers \n",
    "integer numbers eg.(1,4,67)\n",
    "float numbers eg.(0.4,6.7,10.4)\n"
   ]
  },
  {
   "cell_type": "markdown",
   "id": "681fd0f6",
   "metadata": {},
   "source": [
    " # STRINGS"
   ]
  },
  {
   "cell_type": "code",
   "execution_count": 23,
   "id": "1efa96e9",
   "metadata": {},
   "outputs": [
    {
     "data": {
      "text/plain": [
       "'hello how are you'"
      ]
     },
     "execution_count": 23,
     "metadata": {},
     "output_type": "execute_result"
    }
   ],
   "source": [
    "string=\"hello how are you\"\n",
    "string"
   ]
  },
  {
   "cell_type": "code",
   "execution_count": 24,
   "id": "887e3b1c",
   "metadata": {},
   "outputs": [
    {
     "data": {
      "text/plain": [
       "'h'"
      ]
     },
     "execution_count": 24,
     "metadata": {},
     "output_type": "execute_result"
    }
   ],
   "source": [
    "#how to access the elements of the word\n",
    "#it is by use of the indices startng from (0,...)\n",
    "\n",
    "string[0]"
   ]
  },
  {
   "cell_type": "code",
   "execution_count": 25,
   "id": "cbc331cd",
   "metadata": {},
   "outputs": [
    {
     "data": {
      "text/plain": [
       "'hello how'"
      ]
     },
     "execution_count": 25,
     "metadata": {},
     "output_type": "execute_result"
    }
   ],
   "source": [
    "string[0:9]"
   ]
  },
  {
   "cell_type": "code",
   "execution_count": 26,
   "id": "52487c06",
   "metadata": {},
   "outputs": [
    {
     "data": {
      "text/plain": [
       "' are you'"
      ]
     },
     "execution_count": 26,
     "metadata": {},
     "output_type": "execute_result"
    }
   ],
   "source": [
    "string[9:]"
   ]
  },
  {
   "cell_type": "code",
   "execution_count": 29,
   "id": "bdb44972",
   "metadata": {},
   "outputs": [
    {
     "data": {
      "text/plain": [
       "'102'"
      ]
     },
     "execution_count": 29,
     "metadata": {},
     "output_type": "execute_result"
    }
   ],
   "source": [
    "#adding the string to the integer\n",
    "stg=(\"this the biggest number in the set,\")\n",
    "num=102\n",
    "#stg+num -)this is wrong because python can not concanate the string to integer\n",
    "\n",
    "#first convert the num to string form\n",
    "str(102)"
   ]
  },
  {
   "cell_type": "code",
   "execution_count": 31,
   "id": "ff859dc2",
   "metadata": {},
   "outputs": [
    {
     "data": {
      "text/plain": [
       "'this the biggest number in the set,102'"
      ]
     },
     "execution_count": 31,
     "metadata": {},
     "output_type": "execute_result"
    }
   ],
   "source": [
    "#therefoe\n",
    "stg+str(num)"
   ]
  },
  {
   "cell_type": "code",
   "execution_count": 36,
   "id": "c30e9eb9",
   "metadata": {},
   "outputs": [
    {
     "data": {
      "text/plain": [
       "'how alban?'"
      ]
     },
     "execution_count": 36,
     "metadata": {},
     "output_type": "execute_result"
    }
   ],
   "source": [
    "#adding two words or concanating the words\n",
    "f=\"how\"\n",
    "j=\"alban?\" \n",
    "#f+j  -)this is wrong instead;\n",
    "f+\" \"+j"
   ]
  },
  {
   "cell_type": "markdown",
   "id": "e6fec2e2",
   "metadata": {},
   "source": [
    "# lists"
   ]
  },
  {
   "cell_type": "code",
   "execution_count": 37,
   "id": "534663f6",
   "metadata": {},
   "outputs": [
    {
     "data": {
      "text/plain": [
       "'goats'"
      ]
     },
     "execution_count": 37,
     "metadata": {},
     "output_type": "execute_result"
    }
   ],
   "source": [
    "#list num one\n",
    "items=[\"man\",\"girl\",\"woman\",\"edger\",\"goats\"]\n",
    "items[4]"
   ]
  },
  {
   "cell_type": "code",
   "execution_count": 45,
   "id": "b69cbd52",
   "metadata": {},
   "outputs": [
    {
     "name": "stdout",
     "output_type": "stream",
     "text": [
      "['man', 'cows', 'cows', 'girl', 'woman', 'edger', 'goats', 'cows', 'cows', 'cows', 'cows']\n"
     ]
    }
   ],
   "source": [
    "#adding the other item in the list\n",
    "items.append(\"cows\")\n",
    "print(items)"
   ]
  },
  {
   "cell_type": "code",
   "execution_count": 43,
   "id": "3fe0f5a7",
   "metadata": {},
   "outputs": [
    {
     "data": {
      "text/plain": [
       "['man', 'cows', 'cows', 'girl', 'woman', 'edger', 'goats', 'cows', 'cows']"
      ]
     },
     "execution_count": 43,
     "metadata": {},
     "output_type": "execute_result"
    }
   ],
   "source": [
    "items.insert(1,\"cows\")\n",
    "items"
   ]
  },
  {
   "cell_type": "code",
   "execution_count": 46,
   "id": "d16aeba3",
   "metadata": {},
   "outputs": [
    {
     "data": {
      "text/plain": [
       "11"
      ]
     },
     "execution_count": 46,
     "metadata": {},
     "output_type": "execute_result"
    }
   ],
   "source": [
    "len(items)"
   ]
  },
  {
   "cell_type": "code",
   "execution_count": null,
   "id": "db0ffdde",
   "metadata": {},
   "outputs": [],
   "source": []
  },
  {
   "cell_type": "code",
   "execution_count": null,
   "id": "df6e87e3",
   "metadata": {},
   "outputs": [],
   "source": []
  }
 ],
 "metadata": {
  "kernelspec": {
   "display_name": "Python 3 (ipykernel)",
   "language": "python",
   "name": "python3"
  },
  "language_info": {
   "codemirror_mode": {
    "name": "ipython",
    "version": 3
   },
   "file_extension": ".py",
   "mimetype": "text/x-python",
   "name": "python",
   "nbconvert_exporter": "python",
   "pygments_lexer": "ipython3",
   "version": "3.9.13"
  }
 },
 "nbformat": 4,
 "nbformat_minor": 5
}
